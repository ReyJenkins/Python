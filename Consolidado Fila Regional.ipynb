{
 "cells": [
  {
   "cell_type": "code",
   "execution_count": 1,
   "id": "c6e3ecf2",
   "metadata": {},
   "outputs": [],
   "source": [
    "#Importa as Bibliotecas\n",
    "import pandas as pd\n",
    "import time"
   ]
  },
  {
   "cell_type": "code",
   "execution_count": 2,
   "id": "330af65c",
   "metadata": {},
   "outputs": [],
   "source": [
    "#importa a planilha no formato para ser lido\n",
    "df = pd.read_excel('rel_encaminhamentos_cmc_regional_20220926.xlsx')\n",
    "time.sleep(3)\n",
    "#Remove as colunas que não serão utilizadas na base\n",
    "df = df.drop(['COD_ENCAMINHAMENTO','NOME_MAE','TELEFONE','CELULAR','PRIORIDADE','CMES','OPERADOR_ENCAMINHAMENTO','SUBESPECIALIDADE','COD_PROCEDIMENTO','CNS_PROFISSIONAL_SOLICITANTE','PROFISSIONAL_SOLICITANTE','LATERALIDADE','PESO','UNID_EXEC_REQ','TIPO_MARCACAO','JUSTIFICATIVA'], axis=1)\n",
    "time.sleep(3)\n",
    "#Cria uma nova coluna na base\n",
    "df['TIPO_FILA'] = 'COORDENADOR REGIONAL'\n",
    "time.sleep(1)\n",
    "#Ordena as colunas conforme a ordem estabelecida\n",
    "df = df[['TIPO_FILA','REGULACAO','ESTABELECIMENTO_SOLICITANTE','ESPECIALIDADE', 'PROCEDIMENTO', 'CID','DATA_ENCAMINHAMENTO', 'CNS_PACIENTE', 'NOME_PACIENTE', 'NASCIMENTO','SEXO', 'RACA_COR']]\n",
    "time.sleep(1)\n",
    "#Exporta a planilha em Excel, Renomeia a planilha e a aba\n",
    "df.to_excel('rel_encaminhamento_cmc_regional_xxxxxxxx.xlsx', sheet_name = 'Regional', na_rep = '#N/A', header = True, index = False)"
   ]
  },
  {
   "cell_type": "code",
   "execution_count": null,
   "id": "c91fa88f",
   "metadata": {},
   "outputs": [],
   "source": []
  }
 ],
 "metadata": {
  "kernelspec": {
   "display_name": "Python 3 (ipykernel)",
   "language": "python",
   "name": "python3"
  },
  "language_info": {
   "codemirror_mode": {
    "name": "ipython",
    "version": 3
   },
   "file_extension": ".py",
   "mimetype": "text/x-python",
   "name": "python",
   "nbconvert_exporter": "python",
   "pygments_lexer": "ipython3",
   "version": "3.9.12"
  }
 },
 "nbformat": 4,
 "nbformat_minor": 5
}
