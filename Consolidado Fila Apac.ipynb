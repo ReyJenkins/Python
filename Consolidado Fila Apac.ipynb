{
 "cells": [
  {
   "cell_type": "code",
   "execution_count": 3,
   "id": "5d38388a",
   "metadata": {},
   "outputs": [],
   "source": [
    "#Importa as Bibliotecas\n",
    "import pandas as pd\n",
    "from datetime import datetime\n",
    "\n",
    "pd.set_option('display.max_columns', None)\n",
    "pd.set_option('display.max_rows', 5)"
   ]
  },
  {
   "cell_type": "code",
   "execution_count": 4,
   "id": "c6b42498",
   "metadata": {},
   "outputs": [
    {
     "name": "stdout",
     "output_type": "stream",
     "text": [
      "\n",
      "Carregando arquivo inicial ...\n",
      "\n",
      "Removendo as colunas ...\n",
      "\n",
      "Ordenando as colunas na planilha ...\n",
      "\n",
      "Exportando a planilha ...\n",
      "\n",
      "Trabalho Conluído com Sucesso!!!\n"
     ]
    }
   ],
   "source": [
    "#Configura Arquivo inicial completo\n",
    "arquivo_apac = \"rel_fila_apac_20230120.xlsx\"\n",
    "\n",
    "#Leitura do arquivo\n",
    "print(\"\\nCarregando arquivo inicial ...\")\n",
    "df_apac = pd.read_excel(arquivo_apac)\n",
    "\n",
    "#Remove as colunas que não serão utilizadas na base\n",
    "print(\"\\nRemovendo as colunas ...\")\n",
    "df_apac = df_apac.drop(['SITUACAO','CNES_SOLICITANTE','NOME_MAE','COD_MUN_NASCIMENTO','MUNICIPIO_NASCIMENTO','TELEFONE_RESIDENCIAL','TELEFONE_CELULAR','TELEFONE_COMERCIAL','COD_PROCEDIMENTO','PROFISSIONAL_SOLICITANTE','CNS_PROFISSIONAL','COD_CBO','OCUPACAO_PROFISSIONAL','JUSTIFICATIVA','PROVA_DIAGNOSTICA'], axis=1)\n",
    "\n",
    "#Converte a coluna 'NASCIMENTO' para o tipo datetime\n",
    "df_apac['NASCIMENTO'] = pd.to_datetime(df_apac['NASCIMENTO'])\n",
    "#Calcula a idade em anos\n",
    "df_apac['IDADE'] = datetime.now().year - df_apac['NASCIMENTO'].dt.year\n",
    "\n",
    "# Separa as faixas etarias conforme o padrão estabelecido\n",
    "faixas=labels=['0 a 11 ANOS - CRIANÇA','12 a 20 ANOS - ADOLESCENTE','21 a 59 ANOS - ADULTO','ACIMA DE 60 ANOS - IDOSO']\n",
    "# Cria a coluna 'FAIXA_ETARIA' e calcula através da coluna 'IDADE'\n",
    "df_apac['FAIXA_ETARIA'] = pd.cut(x=df_apac['IDADE'],bins=[0,11,20,59,150],labels=faixas)\n",
    "\n",
    "#Ordena as colunas conforme a ordem estabelecida\n",
    "print(\"\\nOrdenando as colunas na planilha ...\")\n",
    "df_apac = df_apac[['TIPO','COORDENADORIA','SUPERVISAO','ESTABELECIMENTO_SOLICITANTE','ESPECIALIDADE','PROCEDIMENTO','CIDS','DATA_HORA_ENTRADA','CNS_PACIENTE', 'NOME_PACIENTE', 'NASCIMENTO', 'IDADE', 'FAIXA_ETARIA', 'SEXO', 'RACA_COR']]\n",
    "\n",
    "#Exporta a planilha em Excel, Renomeia a planilha e a aba\n",
    "print(\"\\nExportando a planilha ...\")\n",
    "df_apac.to_excel('rel_encaminhamentos_fila_apac_{}.xlsx'.format(arquivo_apac[14:-5]),sheet_name = 'Apac', na_rep = '#N/A', header = True, index = False)\n",
    "print(\"\\nTrabalho Conluído com Sucesso!!!\")"
   ]
  },
  {
   "cell_type": "code",
   "execution_count": null,
   "id": "80cdabdf",
   "metadata": {},
   "outputs": [],
   "source": []
  },
  {
   "cell_type": "code",
   "execution_count": null,
   "id": "da8b53e0",
   "metadata": {},
   "outputs": [],
   "source": []
  }
 ],
 "metadata": {
  "kernelspec": {
   "display_name": "Python 3 (ipykernel)",
   "language": "python",
   "name": "python3"
  },
  "language_info": {
   "codemirror_mode": {
    "name": "ipython",
    "version": 3
   },
   "file_extension": ".py",
   "mimetype": "text/x-python",
   "name": "python",
   "nbconvert_exporter": "python",
   "pygments_lexer": "ipython3",
   "version": "3.9.13"
  }
 },
 "nbformat": 4,
 "nbformat_minor": 5
}
