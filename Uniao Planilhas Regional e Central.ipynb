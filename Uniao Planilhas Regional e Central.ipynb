{
 "cells": [
  {
   "cell_type": "code",
   "execution_count": 1,
   "id": "d8655a41",
   "metadata": {},
   "outputs": [],
   "source": [
    "#Importa as Bibliotecas\n",
    "import pandas as pd\n",
    "from datetime import datetime"
   ]
  },
  {
   "cell_type": "code",
   "execution_count": 2,
   "id": "d0f565c6",
   "metadata": {},
   "outputs": [
    {
     "name": "stdout",
     "output_type": "stream",
     "text": [
      "\n",
      "Carregando Planilha Regional ...\n",
      "\n",
      "Carregando Planilha Central ...\n",
      "\n",
      "Removendo as colunas planilha regional...\n",
      "\n",
      "Adicionando a coluna TIPO_FILA = COORDENADOR REGIONAL ...\n",
      "\n",
      "Ordenando as colunas na planilha regional ...\n",
      "\n",
      "Removendo as colunas planilha central...\n",
      "\n",
      "Adicionando a coluna TIPO_FILA = COORDENADOR CENTRAL ...\n",
      "\n",
      "Ordenando as colunas na planilha central...\n",
      "\n",
      "Concatenando as Planilhas Regional e Central\n",
      "\n",
      "Ordenando as colunas na planilha ...\n",
      "\n",
      "Exportando a planilha ...\n",
      "\n",
      "Trabalho Concluído com Sucesso!!!\n"
     ]
    }
   ],
   "source": [
    "#Configura Arquivo inicial completo\n",
    "arquivo_inicial = \"rel_encaminhamentos_cmc_regional_central_20230120.xlsx\"\n",
    "\n",
    "#importa as planilhas no formato para ser lido\n",
    "print(\"\\nCarregando Planilha Regional ...\")\n",
    "df_regional = pd.read_excel('rel_encaminhamentos_cmc_regional_20230120.xlsx')\n",
    "print(\"\\nCarregando Planilha Central ...\")\n",
    "df_central = pd.read_excel('rel_encaminhamentos_cmc_central_20230120.xlsx')\n",
    "\n",
    "#Remove as colunas que não serão utilizadas na base\n",
    "print(\"\\nRemovendo as colunas planilha regional...\")\n",
    "df_regional = df_regional.drop(['COD_ENCAMINHAMENTO','NOME_MAE','TELEFONE','CELULAR','PRIORIDADE','CMES','OPERADOR_ENCAMINHAMENTO','SUBESPECIALIDADE','COD_PROCEDIMENTO','CNS_PROFISSIONAL_SOLICITANTE','PROFISSIONAL_SOLICITANTE','LATERALIDADE','PESO','UNID_EXEC_REQ','TIPO_MARCACAO','JUSTIFICATIVA'], axis=1)\n",
    "\n",
    "#Cria uma nova coluna na base\n",
    "print(\"\\nAdicionando a coluna TIPO_FILA = COORDENADOR REGIONAL ...\")\n",
    "df_regional['TIPO_FILA'] = 'COORDENADOR REGIONAL'\n",
    "\n",
    "#Ordena as colunas conforme a ordem estabelecida\n",
    "print(\"\\nOrdenando as colunas na planilha regional ...\")\n",
    "df_regional = df_regional[['TIPO_FILA','REGULACAO','ESTABELECIMENTO_SOLICITANTE','ESPECIALIDADE', 'PROCEDIMENTO', 'CID','DATA_ENCAMINHAMENTO', 'CNS_PACIENTE', 'NOME_PACIENTE', 'NASCIMENTO','SEXO', 'RACA_COR']]\n",
    "\n",
    "#Remove as colunas que não serão utilizadas na base\n",
    "print(\"\\nRemovendo as colunas planilha central...\")\n",
    "df_central = df_central.drop(['COD_ENCAMINHAMENTO','NOME_MAE','TELEFONE','CELULAR','PRIORIDADE','CMES','OPERADOR_ENCAMINHAMENTO','SUBESPECIALIDADE','COD_PROCEDIMENTO','CNS_PROFISSIONAL_SOLICITANTE','PROFISSIONAL_SOLICITANTE','LATERALIDADE','PESO','UNID_EXEC_REQ','TIPO_MARCACAO','JUSTIFICATIVA'], axis=1)\n",
    "\n",
    "#Cria uma nova coluna na base\n",
    "print(\"\\nAdicionando a coluna TIPO_FILA = COORDENADOR CENTRAL ...\")\n",
    "df_central['TIPO_FILA'] = 'COORDENADOR CENTRAL'\n",
    "\n",
    "#Ordena as colunas conforme a ordem estabelecida\n",
    "print(\"\\nOrdenando as colunas na planilha central...\")\n",
    "df_central = df_central[['TIPO_FILA','REGULACAO','ESTABELECIMENTO_SOLICITANTE','ESPECIALIDADE', 'PROCEDIMENTO', 'CID','DATA_ENCAMINHAMENTO', 'CNS_PACIENTE', 'NOME_PACIENTE', 'NASCIMENTO','SEXO', 'RACA_COR']]\n",
    "\n",
    "# Fazendo a união das Planilhas\n",
    "print(\"\\nConcatenando as Planilhas Regional e Central\")\n",
    "df_consolidado = pd.concat([df_regional,df_central])\n",
    "\n",
    "#Converte a coluna 'NASCIMENTO' para o tipo datetime\n",
    "df_consolidado['NASCIMENTO'] = pd.to_datetime(df_consolidado['NASCIMENTO'])\n",
    "#Calcula a idade em anos\n",
    "df_consolidado['IDADE'] = datetime.now().year - df_consolidado['NASCIMENTO'].dt.year\n",
    "\n",
    "# Separa as faixas etarias conforme o padrão estabelecido\n",
    "faixas=labels=['0 a 11 ANOS - CRIANÇA','12 a 20 ANOS - ADOLESCENTE','21 a 59 ANOS - ADULTO','ACIMA DE 60 ANOS - IDOSO']\n",
    "# Cria a coluna 'FAIXA_ETARIA' e calcula através da coluna 'IDADE'\n",
    "df_consolidado['FAIXA_ETARIA'] = pd.cut(x=df_consolidado['IDADE'],bins=[0,11,20,59,150],labels=faixas)\n",
    "\n",
    "#Ordena as colunas conforme a ordem estabelecida\n",
    "print(\"\\nOrdenando as colunas na planilha ...\")\n",
    "df_consolidado = df_consolidado[['TIPO_FILA','REGULACAO','ESTABELECIMENTO_SOLICITANTE','ESPECIALIDADE','PROCEDIMENTO','CID','DATA_ENCAMINHAMENTO','CNS_PACIENTE', 'NOME_PACIENTE', 'NASCIMENTO', 'IDADE', 'FAIXA_ETARIA', 'SEXO', 'RACA_COR']]\n",
    "\n",
    "#Exporta a planlha em Excel, renomeia a planilha e a aba\n",
    "print(\"\\nExportando a planilha ...\")\n",
    "df_consolidado.to_excel('rel_encaminhamentos_cmc_regional_central_{}.xlsx'.format(arquivo_inicial[41:-5]),sheet_name = 'REGIONAL_CENTRAL', na_rep = '#N/A', header = True, index = False)\n",
    "print(\"\\nTrabalho Concluído com Sucesso!!!\")"
   ]
  },
  {
   "cell_type": "code",
   "execution_count": null,
   "id": "73909a81",
   "metadata": {},
   "outputs": [],
   "source": []
  }
 ],
 "metadata": {
  "kernelspec": {
   "display_name": "Python 3 (ipykernel)",
   "language": "python",
   "name": "python3"
  },
  "language_info": {
   "codemirror_mode": {
    "name": "ipython",
    "version": 3
   },
   "file_extension": ".py",
   "mimetype": "text/x-python",
   "name": "python",
   "nbconvert_exporter": "python",
   "pygments_lexer": "ipython3",
   "version": "3.9.13"
  }
 },
 "nbformat": 4,
 "nbformat_minor": 5
}
