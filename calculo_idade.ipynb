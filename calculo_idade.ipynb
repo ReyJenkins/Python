{
 "cells": [
  {
   "cell_type": "code",
   "execution_count": null,
   "id": "68b25925",
   "metadata": {},
   "outputs": [],
   "source": [
    "# Importação das bibliotecas\n",
    "import pandas as pd\n",
    "from datetime import datetime, date"
   ]
  },
  {
   "cell_type": "code",
   "execution_count": null,
   "id": "d3bc5590",
   "metadata": {},
   "outputs": [],
   "source": [
    "# Leitura da planilha Excel\n",
    "print(\"\\nCarregando a planilha...\")\n",
    "df_apac = pd.read_excel(\"rel_fila_apac_20221223.xlsx\")\n",
    "print(\"\\nPlanilha Carregada com Sucesso!\")"
   ]
  },
  {
   "cell_type": "code",
   "execution_count": null,
   "id": "9a21db07",
   "metadata": {},
   "outputs": [],
   "source": [
    "#Converte a coluna 'NASCIMENTO' para o tipo datetime\n",
    "df_apac['NASCIMENTO'] = pd.to_datetime(df_apac['NASCIMENTO'])\n",
    "#Calcula a idade em anos\n",
    "df_apac['IDADE'] = datetime.now().year - df_apac['NASCIMENTO'].dt.year"
   ]
  },
  {
   "cell_type": "code",
   "execution_count": null,
   "id": "92f15661",
   "metadata": {},
   "outputs": [],
   "source": [
    "display(df_apac)"
   ]
  },
  {
   "cell_type": "code",
   "execution_count": null,
   "id": "b0ad5b3d",
   "metadata": {},
   "outputs": [],
   "source": []
  }
 ],
 "metadata": {
  "kernelspec": {
   "display_name": "Python 3 (ipykernel)",
   "language": "python",
   "name": "python3"
  },
  "language_info": {
   "codemirror_mode": {
    "name": "ipython",
    "version": 3
   },
   "file_extension": ".py",
   "mimetype": "text/x-python",
   "name": "python",
   "nbconvert_exporter": "python",
   "pygments_lexer": "ipython3",
   "version": "3.9.13"
  }
 },
 "nbformat": 4,
 "nbformat_minor": 5
}
