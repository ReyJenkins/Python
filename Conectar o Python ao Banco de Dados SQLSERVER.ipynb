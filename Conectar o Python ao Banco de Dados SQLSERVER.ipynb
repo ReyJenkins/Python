{
 "cells": [
  {
   "cell_type": "code",
   "execution_count": 1,
   "id": "8a878291",
   "metadata": {},
   "outputs": [
    {
     "name": "stdout",
     "output_type": "stream",
     "text": [
      "Conexão Bem Sucedida\n"
     ]
    }
   ],
   "source": [
    "import pyodbc\n",
    "\n",
    "#Cria a Conexão com o Banco de Dados SQL SERVER\n",
    "dados_conexao = (\n",
    "    \"Driver={SQL SERVER};\"\n",
    "    \"Server=SMSGBCRGLC005;\"\n",
    "    \"Database=PythonSQL;\"\n",
    "    )\n",
    "\n",
    "conexao = pyodbc.connect(dados_conexao)\n",
    "print(\"Conexão Bem Sucedida\")"
   ]
  },
  {
   "cell_type": "code",
   "execution_count": 5,
   "id": "1fd27102",
   "metadata": {},
   "outputs": [
    {
     "name": "stdout",
     "output_type": "stream",
     "text": [
      "Comando Executado com Sucesso!\n"
     ]
    }
   ],
   "source": [
    "#Comandos para o banco de Dados\n",
    "cursor = conexao.cursor()\n",
    "\n",
    "id = \"4\"\n",
    "cliente = \"Sidney\"\n",
    "produto = \"Carro\"\n",
    "data = \"18/08/2022\"\n",
    "preco = \"5000\" \n",
    "quantidade = 1\n",
    "\n",
    "comando = f\"\"\"INSERT INTO Vendas(id_venda, cliente, produto, data_venda, preco, quantidade)\n",
    "VALUES\n",
    "    ({id},'{cliente}','{produto}','{data}','{preco}','{quantidade}')\"\"\"\n",
    "\n",
    "cursor.execute(comando)\n",
    "cursor.commit()\n",
    "print(\"Comando Executado com Sucesso!\")"
   ]
  },
  {
   "cell_type": "code",
   "execution_count": null,
   "id": "7483e57b",
   "metadata": {},
   "outputs": [],
   "source": []
  }
 ],
 "metadata": {
  "kernelspec": {
   "display_name": "Python 3 (ipykernel)",
   "language": "python",
   "name": "python3"
  },
  "language_info": {
   "codemirror_mode": {
    "name": "ipython",
    "version": 3
   },
   "file_extension": ".py",
   "mimetype": "text/x-python",
   "name": "python",
   "nbconvert_exporter": "python",
   "pygments_lexer": "ipython3",
   "version": "3.9.13"
  }
 },
 "nbformat": 4,
 "nbformat_minor": 5
}
